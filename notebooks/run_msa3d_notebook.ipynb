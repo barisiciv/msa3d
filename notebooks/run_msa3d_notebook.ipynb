{
 "cells": [
  {
   "cell_type": "code",
   "execution_count": 1,
   "id": "1a19670c-2ad8-4463-b618-9cef0c91478d",
   "metadata": {},
   "outputs": [],
   "source": [
    "# Imports\n",
    "from pathlib import Path\n",
    "from MSA3D.run_msa3d import run"
   ]
  },
  {
   "cell_type": "code",
   "execution_count": 2,
   "id": "c4c43701-03f7-4f56-8ea7-438b5450cd9e",
   "metadata": {},
   "outputs": [],
   "source": [
    "# RUN THE PIPELINE ONLY PARTLY\n",
    "\n",
    "# run_process = False --> skip running stage 2/3 set \n",
    "# run_postprocess = True --> run postprocessing\n",
    "# run_cubebuild = True --> run cube_build\n",
    "\n",
    "# provide own paths to data and msa\n",
    "# data_entries : path to 2D spectra\n",
    "# msa_path : path to MSA\n",
    "\n",
    "#root = Path('/Users/ibarisic/Downloads/GO_2136_ALL_DATA/JWST/')\n",
    "root = Path('/Users/westfall/Work/msa3d')\n",
    "\n",
    "# TODO: We can skip the string conversion if we allow functions to use Path\n",
    "# objects.\n",
    "data_entries = [str(f) for f in sorted(root.glob('reduction/process/exp*nobar/newoutput*_s2d.fits'))]\n",
    "msa_path = str(root / 'jw02136001001_01_msa.fits')"
   ]
  },
  {
   "cell_type": "code",
   "execution_count": null,
   "id": "bb213f74",
   "metadata": {},
   "outputs": [],
   "source": [
    "run(data_entries, msa_path, run_process=False, run_postprocess=True, run_cubebuild=True)"
   ]
  },
  {
   "cell_type": "code",
   "execution_count": null,
   "id": "22965d57-4b5c-45d4-a95d-3d103b09bb27",
   "metadata": {},
   "outputs": [],
   "source": [
    "# RUN FULL PIPELINE\n",
    "\n",
    "# run_process = False --> skip running stage 2/3 set \n",
    "# run_postprocess = True --> run postprocessing\n",
    "# run_cubebuild = True --> run cube_build\n",
    "\n",
    "# provide own paths to data and msa\n",
    "# data_entries : path to rate files\n",
    "# msa_path : path to MSA\n",
    "\n",
    "root = Path('/Users/ibarisic/Downloads/GO_2136_ALL_DATA/JWST/')\n",
    "\n",
    "data_entries = sorted(root.glob('jw*rate.fits')) \n",
    "msa_path = root / 'jw02136001001_01_msa.fits'\n",
    "\n",
    "run(data_entries, msa_path, run_process=True, run_postprocess=True, run_cubebuild=True)"
   ]
  }
 ],
 "metadata": {
  "kernelspec": {
   "display_name": "Python 3 (ipykernel)",
   "language": "python",
   "name": "python3"
  },
  "language_info": {
   "codemirror_mode": {
    "name": "ipython",
    "version": 3
   },
   "file_extension": ".py",
   "mimetype": "text/x-python",
   "name": "python",
   "nbconvert_exporter": "python",
   "pygments_lexer": "ipython3",
   "version": "3.12.6"
  }
 },
 "nbformat": 4,
 "nbformat_minor": 5
}
